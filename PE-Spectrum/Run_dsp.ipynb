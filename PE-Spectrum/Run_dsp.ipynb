{
 "cells": [
  {
   "cell_type": "code",
   "execution_count": 1,
   "id": "86a372f0-0c1d-4d88-a4df-9bbb91c08cd6",
   "metadata": {},
   "outputs": [
    {
     "name": "stderr",
     "output_type": "stream",
     "text": [
      "Processing table ch000/raw: 100%|██████████| 70837/70837 [00:19<00:00, 3606.79 rows/s]\n",
      "Processing table ch001/raw: 100%|██████████| 70837/70837 [00:19<00:00, 3636.45 rows/s]\n",
      "Processing table ch002/raw: 100%|██████████| 70837/70837 [00:19<00:00, 3629.38 rows/s]\n",
      "Processing table ch003/raw: 100%|██████████| 70837/70837 [00:20<00:00, 3519.37 rows/s]\n",
      "Processing table ch004/raw: 100%|██████████| 70837/70837 [00:20<00:00, 3536.92 rows/s]\n",
      "Processing table ch005/raw: 100%|██████████| 70837/70837 [00:19<00:00, 3631.45 rows/s]\n",
      "Processing table ch006/raw: 100%|██████████| 70837/70837 [00:23<00:00, 2962.29 rows/s]\n",
      "Processing table ch007/raw: 100%|██████████| 70837/70837 [00:17<00:00, 3935.67 rows/s]\n",
      "Processing table ch008/raw: 100%|██████████| 70837/70837 [00:21<00:00, 3317.55 rows/s]\n",
      "Processing table ch009/raw: 100%|██████████| 70837/70837 [00:20<00:00, 3383.86 rows/s]\n",
      "Processing table ch010/raw: 100%|██████████| 70837/70837 [00:19<00:00, 3548.24 rows/s]\n",
      "Processing table ch011/raw: 100%|██████████| 70837/70837 [00:20<00:00, 3490.65 rows/s]\n",
      "Processing table ch012/raw: 100%|██████████| 70837/70837 [00:23<00:00, 3067.90 rows/s]\n",
      "Processing table ch013/raw: 100%|██████████| 70837/70837 [00:22<00:00, 3172.85 rows/s]\n",
      "Processing table ch014/raw: 100%|██████████| 70837/70837 [00:21<00:00, 3275.01 rows/s]\n",
      "Processing table ch015/raw: 100%|██████████| 70837/70837 [00:19<00:00, 3550.17 rows/s]\n",
      "Processing table ch016/raw: 100%|██████████| 70837/70837 [00:21<00:00, 3285.30 rows/s]\n",
      "Processing table ch017/raw: 100%|██████████| 70837/70837 [00:21<00:00, 3256.54 rows/s]\n",
      "Processing table ch018/raw: 100%|██████████| 70837/70837 [00:18<00:00, 3785.92 rows/s]\n",
      "Processing table ch019/raw: 100%|██████████| 70837/70837 [00:18<00:00, 3763.35 rows/s]\n",
      "Processing table ch020/raw: 100%|██████████| 70837/70837 [00:19<00:00, 3674.81 rows/s]\n",
      "Processing table ch021/raw: 100%|██████████| 70837/70837 [00:20<00:00, 3457.92 rows/s]\n",
      "Processing table ch022/raw: 100%|██████████| 70837/70837 [00:19<00:00, 3675.33 rows/s]\n",
      "Processing table ch023/raw: 100%|██████████| 70837/70837 [00:19<00:00, 3714.36 rows/s]\n",
      "Processing table ch024/raw: 100%|██████████| 70837/70837 [00:19<00:00, 3661.20 rows/s]\n",
      "Processing table ch025/raw: 100%|██████████| 70837/70837 [00:18<00:00, 3765.56 rows/s]\n",
      "Processing table ch026/raw: 100%|██████████| 70837/70837 [00:21<00:00, 3324.49 rows/s]\n",
      "Processing table ch027/raw: 100%|██████████| 70837/70837 [00:20<00:00, 3466.32 rows/s]\n",
      "Processing table ch028/raw: 100%|██████████| 70837/70837 [00:21<00:00, 3334.33 rows/s]\n",
      "Processing table ch029/raw: 100%|██████████| 70837/70837 [00:21<00:00, 3288.61 rows/s]\n",
      "Processing table ch030/raw: 100%|██████████| 70837/70837 [00:23<00:00, 3006.88 rows/s]\n",
      "Processing table ch031/raw: 100%|██████████| 70837/70837 [00:23<00:00, 3040.33 rows/s]\n",
      "Processing table ch032/raw: 100%|██████████| 70837/70837 [00:23<00:00, 3021.28 rows/s]\n"
     ]
    }
   ],
   "source": [
    "import simultaneous_waveviewer\n",
    "from pygama.lgdo.lh5_store import show\n",
    "from pygama.vis.waveform_browser import WaveformBrowser\n",
    "import pygama.dsp.build_dsp as build_dsp\n",
    "\n",
    "#show(\"/home/ge25qer/lh5/test.lh5\")\n",
    "#show(\"/mnt/atlas01/projects/legend/data/com/raw/2022-04-13-sipm-test/run008/20220425-175437-th228-4p7kbq-8400-athr200,12,2-es4000.lh5\")\n",
    "#simultaneous_waveviewer.simul_viewer(lh5_file_in = \"/home/ge25qer/lh5/test.lh5\", data_dir = \"/dsp\", lines = \"energies\", x_lim=[-20,20], y_lim=[0,30])\n",
    "\n",
    "#simultaneous_waveviewer.simul_viewer(lh5_file_in = \"/mnt/atlas01/projects/legend/data/com/raw/2022-04-13-sipm-test/run008/20220425-175437-th228-4p7kbq-8400-athr200,12,2-es4000.lh5\", data_dir = \"/raw/waveform\",lines = [\"values\"])\n",
    "\n",
    "#simultaneous_waveviewer.simul_viewer(lh5_file_in = \"/mnt/atlas01/projects/legend/data/com/raw/2022-04-13-sipm-test/run008/20220425-175437-th228-4p7kbq-8400-athr200,12,2-es4000.lh5\",data_dir = \"/raw\")\n",
    "#WaveformBrowser(\"/mnt/atlas01/projects/legend/data/com/raw/2022-04-13-sipm-test/run008/20220425-175437-th228-4p7kbq-8400-athr200,12,2-es4000.lh5\",\"/ch007/raw\")\n",
    "\n",
    "\"\"\"\n",
    "already run:\n",
    "/mnt/atlas01/projects/legend/data/com/raw/2022-04-13-sipm-test/run007/b/20220418-221822-m6-muon-amajl3-mmaj3-es2000.lh5\n",
    "/mnt/atlas01/projects/legend/data/com/raw/2022-04-13-sipm-test/run007/b/20220418-231824-m6-muon-amajl3-mmaj3-es2000.lh5\n",
    "\"\"\"\n",
    "\n",
    "build_dsp(\n",
    "        f_raw = \"/mnt/atlas01/projects/legend/data/com/raw/2022-04-13-sipm-test/run007/b/20220418-231824-m6-muon-amajl3-mmaj3-es2000.lh5\",\n",
    "        f_dsp = \"/mnt/atlas01/users/shofinger/dsp_7/b/231824.lh5\",\n",
    "        dsp_config = \"/home/ge25qer/pygama/tests/dsp/configs/sipm-dsp-config.json\",\n",
    "        write_mode = \"r\",\n",
    "    )"
   ]
  },
  {
   "cell_type": "code",
   "execution_count": null,
   "id": "26c0bb5b-3b28-4ef4-99cd-ddc74c2a5b59",
   "metadata": {},
   "outputs": [],
   "source": []
  }
 ],
 "metadata": {
  "kernelspec": {
   "display_name": "pygama",
   "language": "python",
   "name": "pygama"
  },
  "language_info": {
   "codemirror_mode": {
    "name": "ipython",
    "version": 3
   },
   "file_extension": ".py",
   "mimetype": "text/x-python",
   "name": "python",
   "nbconvert_exporter": "python",
   "pygments_lexer": "ipython3",
   "version": "3.10.0"
  }
 },
 "nbformat": 4,
 "nbformat_minor": 5
}
