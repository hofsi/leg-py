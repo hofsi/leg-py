{
 "cells": [
  {
   "cell_type": "code",
   "execution_count": 1,
   "id": "86a372f0-0c1d-4d88-a4df-9bbb91c08cd6",
   "metadata": {},
   "outputs": [
    {
     "name": "stderr",
     "output_type": "stream",
     "text": [
      "Processing table ch000/raw: 100%|██████████| 4534/4534 [00:15<00:00, 301.80 rows/s]\n",
      "Processing table ch001/raw: 100%|██████████| 4534/4534 [00:15<00:00, 301.09 rows/s]\n",
      "Processing table ch002/raw: 100%|██████████| 4534/4534 [00:15<00:00, 295.15 rows/s]\n",
      "Processing table ch003/raw: 100%|██████████| 4534/4534 [00:15<00:00, 288.47 rows/s]\n",
      "Processing table ch004/raw: 100%|██████████| 4534/4534 [00:15<00:00, 294.18 rows/s]\n",
      "Processing table ch005/raw: 100%|██████████| 4534/4534 [00:15<00:00, 300.76 rows/s]\n",
      "Processing table ch006/raw: 100%|██████████| 4534/4534 [00:20<00:00, 220.26 rows/s]\n",
      "Processing table ch007/raw: 100%|██████████| 4534/4534 [00:13<00:00, 326.30 rows/s]\n",
      "Processing table ch008/raw: 100%|██████████| 4534/4534 [00:17<00:00, 261.52 rows/s]\n",
      "Processing table ch009/raw: 100%|██████████| 4534/4534 [00:17<00:00, 264.42 rows/s]\n",
      "Processing table ch010/raw: 100%|██████████| 4534/4534 [00:15<00:00, 288.62 rows/s]\n",
      "Processing table ch011/raw: 100%|██████████| 4534/4534 [00:15<00:00, 291.86 rows/s]\n",
      "Processing table ch012/raw: 100%|██████████| 4534/4534 [00:19<00:00, 237.19 rows/s]\n",
      "Processing table ch013/raw: 100%|██████████| 4534/4534 [00:17<00:00, 252.33 rows/s]\n",
      "Processing table ch014/raw: 100%|██████████| 4534/4534 [00:17<00:00, 258.89 rows/s]\n",
      "Processing table ch015/raw: 100%|██████████| 4534/4534 [00:15<00:00, 286.16 rows/s]\n",
      "Processing table ch016/raw: 100%|██████████| 4534/4534 [00:17<00:00, 252.90 rows/s]\n",
      "Processing table ch017/raw: 100%|██████████| 4534/4534 [00:17<00:00, 262.90 rows/s]\n",
      "Processing table ch018/raw: 100%|██████████| 4534/4534 [00:14<00:00, 321.42 rows/s]\n",
      "Processing table ch019/raw: 100%|██████████| 4534/4534 [00:14<00:00, 314.44 rows/s]\n",
      "Processing table ch020/raw: 100%|██████████| 4534/4534 [00:15<00:00, 289.73 rows/s]\n",
      "Processing table ch021/raw: 100%|██████████| 4534/4534 [00:16<00:00, 283.36 rows/s]\n",
      "Processing table ch022/raw: 100%|██████████| 4534/4534 [00:15<00:00, 299.59 rows/s]\n",
      "Processing table ch023/raw: 100%|██████████| 4534/4534 [00:14<00:00, 303.30 rows/s]\n",
      "Processing table ch024/raw: 100%|██████████| 4534/4534 [00:15<00:00, 297.23 rows/s]\n",
      "Processing table ch025/raw: 100%|██████████| 4534/4534 [00:15<00:00, 294.65 rows/s]\n",
      "Processing table ch026/raw: 100%|██████████| 4534/4534 [00:17<00:00, 254.21 rows/s]\n",
      "Processing table ch027/raw: 100%|██████████| 4534/4534 [00:17<00:00, 261.12 rows/s]\n",
      "Processing table ch028/raw: 100%|██████████| 4534/4534 [00:17<00:00, 256.35 rows/s]\n",
      "Processing table ch029/raw: 100%|██████████| 4534/4534 [00:17<00:00, 254.01 rows/s]\n",
      "Processing table ch030/raw: 100%|██████████| 4534/4534 [00:20<00:00, 224.94 rows/s]\n",
      "Processing table ch031/raw: 100%|██████████| 4534/4534 [00:20<00:00, 220.19 rows/s]\n",
      "Processing table ch032/raw: 100%|██████████| 4534/4534 [00:20<00:00, 225.61 rows/s]\n"
     ]
    }
   ],
   "source": [
    "import simultaneous_waveviewer\n",
    "from pygama.lgdo.lh5_store import show\n",
    "from pygama.vis.waveform_browser import WaveformBrowser\n",
    "import pygama.dsp.build_dsp as build_dsp\n",
    "\n",
    "#show(\"/home/ge25qer/lh5/test.lh5\")\n",
    "#show(\"/mnt/atlas01/projects/legend/data/com/raw/2022-04-13-sipm-test/run008/20220425-175437-th228-4p7kbq-8400-athr200,12,2-es4000.lh5\")\n",
    "#simultaneous_waveviewer.simul_viewer(lh5_file_in = \"/home/ge25qer/lh5/test.lh5\", data_dir = \"/dsp\", lines = \"energies\", x_lim=[-20,20], y_lim=[0,30])\n",
    "\n",
    "#simultaneous_waveviewer.simul_viewer(lh5_file_in = \"/mnt/atlas01/projects/legend/data/com/raw/2022-04-13-sipm-test/run008/20220425-175437-th228-4p7kbq-8400-athr200,12,2-es4000.lh5\", data_dir = \"/raw/waveform\",lines = [\"values\"])\n",
    "\n",
    "#simultaneous_waveviewer.simul_viewer(lh5_file_in = \"/mnt/atlas01/projects/legend/data/com/raw/2022-04-13-sipm-test/run008/20220425-175437-th228-4p7kbq-8400-athr200,12,2-es4000.lh5\",data_dir = \"/raw\")\n",
    "#WaveformBrowser(\"/mnt/atlas01/projects/legend/data/com/raw/2022-04-13-sipm-test/run008/20220425-175437-th228-4p7kbq-8400-athr200,12,2-es4000.lh5\",\"/ch007/raw\")\n",
    "\n",
    "build_dsp(\n",
    "        f_raw = \"/mnt/atlas01/projects/legend/data/com/raw/2022-04-13-sipm-test/run007/a/20220417-113433-m6-muon-amajl4-mmaj3-es30000.lh5\",\n",
    "        f_dsp = \"/mnt/atlas01/users/shofinger/dsp_7/a/113433.lh5\",\n",
    "        dsp_config = \"/home/ge25qer/python/sipm-dsp-config.json\",\n",
    "        write_mode = \"r\",\n",
    "    )"
   ]
  },
  {
   "cell_type": "code",
   "execution_count": null,
   "id": "26c0bb5b-3b28-4ef4-99cd-ddc74c2a5b59",
   "metadata": {},
   "outputs": [],
   "source": []
  }
 ],
 "metadata": {
  "kernelspec": {
   "display_name": "pygama",
   "language": "python",
   "name": "pygama"
  },
  "language_info": {
   "codemirror_mode": {
    "name": "ipython",
    "version": 3
   },
   "file_extension": ".py",
   "mimetype": "text/x-python",
   "name": "python",
   "nbconvert_exporter": "python",
   "pygments_lexer": "ipython3",
   "version": "3.10.0"
  }
 },
 "nbformat": 4,
 "nbformat_minor": 5
}
