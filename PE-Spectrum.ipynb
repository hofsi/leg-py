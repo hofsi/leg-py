{
 "cells": [
  {
   "cell_type": "code",
   "execution_count": 1,
   "id": "9a18b9f2-5f0b-4d78-8164-166db5ba3c29",
   "metadata": {},
   "outputs": [],
   "source": [
    "import pespectrum as pe\n",
    "from pygama.lgdo.lh5_store import show\n",
    "from pygama.lgdo.lh5_store import ls\n",
    "import simultaneous_waveviewer\n",
    "import numpy as np\n",
    "import matplotlib.pyplot as plt\n",
    "import math\n",
    "import json\n",
    "\n",
    "data = \"/mnt/atlas01/users/shofinger/dsp_7/b/221822.lh5\"\n",
    "include_channel = [\"OB-01\",\"OB-02\",\"OB-03\",\"OB-05\",\"OB-06\",\"OB-07\",\"OB-08\",\"OB-09\",\"OB-12\",\"OB-13\",\"OB-14\",\"OB-16\",\"OB-17\",\"OB-21\",\"OB-22\",\"OB-23\",\"OB-24\",\"OB-25\",\"OB-26\",\"OB-28\",\"OB-29\",\"OB-30\",\"OB-31\",\"OB-35\",\"OB-36\",\"OB-37\",\"OB-38\",\"OB-39\",\"OB-40\"]\n",
    "    \n",
    "#show(data)"
   ]
  },
  {
   "cell_type": "code",
   "execution_count": null,
   "id": "4ce68aef-c23a-4212-9892-3ea5b4fb6601",
   "metadata": {},
   "outputs": [],
   "source": [
    "pes = pe.create_spectrum(data,include_channel)\n",
    "#print(y)"
   ]
  },
  {
   "cell_type": "code",
   "execution_count": null,
   "id": "2e6bd55b-4355-407f-b88f-bd7c548c5880",
   "metadata": {},
   "outputs": [],
   "source": [
    "cmap = open(\"/mnt/atlas01/projects/legend/data/com/raw/2022-04-13-sipm-test/channel-map.json\")\n",
    "\n",
    "channel_map = json.load(cmap)\n",
    "channel_dict = {}\n",
    "for i in channel_map[\"hardware_configuration\"][\"channel_map\"]:\n",
    "    channel_dict[channel_map[\"hardware_configuration\"][\"channel_map\"][i][\"det_id\"]] = i\n",
    "channel=[channel_dict[i] for i in include_channel]\n",
    "\n",
    "\n",
    "\n",
    "areas = [[5,13,22],[5,17,30],[5,17,24],\n",
    "         [5,15,25],[5,15,25],[5,17,30],\n",
    "         [5,15,25],[5,15,25],[7,17,30],\n",
    "         [5,15,25],[5,15,25],[5,15,25],\n",
    "         [8,15,30],[5,13,22],[5,15,30],\n",
    "         [14,22,40],[10,20,40],[5,13,22],\n",
    "         [7,17,30],[5,12,20],[10,20,35],\n",
    "         [5,15,25],[10,22,40],[5,20,35],\n",
    "         [5,15,25],[5,20,30],[5,17,30],\n",
    "         [5,15,25],[5,15,25],[5,15,25]]\n",
    "mul_width = 3\n",
    "mul_figsize = (30,20)\n",
    "fig, axs = plt.subplots(ncols=mul_width, nrows=math.ceil(len(y)/mul_width), figsize=mul_figsize,layout=\"constrained\")\n",
    "for i in range(len(y)):\n",
    "    axs[math.floor(i/mul_width),i%mul_width].bar(pes[i][1][0:1000],pes[i][0])\n",
    "    for j in range(3):\n",
    "        axs[math.floor(i/mul_width),i%mul_width].axvline(areas[i][j],color='r')\n",
    "        axs[math.floor(i/mul_width),i%mul_width].set_title(include_channel[i]+ \" \"+ str(channel[i]))\n",
    "plt.show()"
   ]
  },
  {
   "cell_type": "code",
   "execution_count": null,
   "id": "4b82709b-b7ea-4bfd-b989-2521502c157b",
   "metadata": {},
   "outputs": [],
   "source": [
    "result,conv = pe.fit_gaus(y,areas)"
   ]
  },
  {
   "cell_type": "code",
   "execution_count": null,
   "id": "aa323586-b4c5-4afd-b908-06a7b8bc68be",
   "metadata": {},
   "outputs": [],
   "source": []
  },
  {
   "cell_type": "code",
   "execution_count": null,
   "id": "7c21a5f2-8b14-47d7-8992-d27018a20454",
   "metadata": {},
   "outputs": [],
   "source": []
  }
 ],
 "metadata": {
  "kernelspec": {
   "display_name": "pygama",
   "language": "python",
   "name": "pygama"
  },
  "language_info": {
   "codemirror_mode": {
    "name": "ipython",
    "version": 3
   },
   "file_extension": ".py",
   "mimetype": "text/x-python",
   "name": "python",
   "nbconvert_exporter": "python",
   "pygments_lexer": "ipython3",
   "version": "3.10.0"
  }
 },
 "nbformat": 4,
 "nbformat_minor": 5
}
