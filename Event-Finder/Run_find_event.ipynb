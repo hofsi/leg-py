{
 "cells": [
  {
   "cell_type": "code",
   "execution_count": 1,
   "id": "7e84fe68-2906-4fab-9299-dd11ad2031f1",
   "metadata": {},
   "outputs": [
    {
     "ename": "SyntaxError",
     "evalue": "invalid syntax (1156460103.py, line 4)",
     "output_type": "error",
     "traceback": [
      "\u001b[0;36m  Cell \u001b[0;32mIn [1], line 4\u001b[0;36m\u001b[0m\n\u001b[0;31m    import /home/ge25qer/python/simultaneous_waveviewer.py\u001b[0m\n\u001b[0m           ^\u001b[0m\n\u001b[0;31mSyntaxError\u001b[0m\u001b[0;31m:\u001b[0m invalid syntax\n"
     ]
    }
   ],
   "source": [
    "import find_event as fe\n",
    "from pygama.lgdo.lh5_store import show\n",
    "from pygama.lgdo.lh5_store import ls\n",
    "import /home/ge25qer/python/simultaneous_waveviewer.py\n",
    "file = [\n",
    "\"/mnt/atlas01/projects/legend/data/com/raw/2022-04-13-sipm-test/run006/20220414-063402-m6-muon-amajl3-mmaj4-rtl2500.lh5\",  \n",
    "\"/mnt/atlas01/projects/legend/data/com/raw/2022-04-13-sipm-test/run006/20220415-175835-m6-muon-amajl3-mmaj4-rtl2500.lh5\",\n",
    "\"/mnt/atlas01/projects/legend/data/com/raw/2022-04-13-sipm-test/run006/20220414-073404-m6-muon-amajl3-mmaj4-rtl2500.lh5\",  \n",
    "\"/mnt/atlas01/projects/legend/data/com/raw/2022-04-13-sipm-test/run006/20220415-185838-m6-muon-amajl3-mmaj4-rtl2500.lh5\",\n",
    "\"/mnt/atlas01/projects/legend/data/com/raw/2022-04-13-sipm-test/run006/20220414-083406-m6-muon-amajl3-mmaj4-rtl2500.lh5\",  \n",
    "\"/mnt/atlas01/projects/legend/data/com/raw/2022-04-13-sipm-test/run006/20220415-195840-m6-muon-amajl3-mmaj4-rtl2500.lh5\",\n",
    "\"/mnt/atlas01/projects/legend/data/com/raw/2022-04-13-sipm-test/run006/20220414-093407-m6-muon-amajl3-mmaj4-rtl2500.lh5\",  \n",
    "\"/mnt/atlas01/projects/legend/data/com/raw/2022-04-13-sipm-test/run006/20220415-205842-m6-muon-amajl3-mmaj4-rtl2500.lh5\",\n",
    "\"/mnt/atlas01/projects/legend/data/com/raw/2022-04-13-sipm-test/run006/20220414-103409-m6-muon-amajl3-mmaj4-rtl2500.lh5\",  \n",
    "\"/mnt/atlas01/projects/legend/data/com/raw/2022-04-13-sipm-test/run006/20220415-215843-m6-muon-amajl3-mmaj4-rtl2500.lh5\",\n",
    "\"/mnt/atlas01/projects/legend/data/com/raw/2022-04-13-sipm-test/run006/20220414-113411-m6-muon-amajl3-mmaj4-rtl2500.lh5\",  \n",
    "\"/mnt/atlas01/projects/legend/data/com/raw/2022-04-13-sipm-test/run006/20220416-081130-m6-muon-amajl3-mmaj4-rtl2500.lh5\",\n",
    "\"/mnt/atlas01/projects/legend/data/com/raw/2022-04-13-sipm-test/run006/20220414-123413-m6-muon-amajl3-mmaj4-rtl2500.lh5\",  \n",
    "\"/mnt/atlas01/projects/legend/data/com/raw/2022-04-13-sipm-test/run006/20220416-091132-m6-muon-amajl3-mmaj4-rtl2500.lh5\",\n",
    "\"/mnt/atlas01/projects/legend/data/com/raw/2022-04-13-sipm-test/run006/20220414-133415-m6-muon-amajl3-mmaj4-rtl2500.lh5\",  \n",
    "\"/mnt/atlas01/projects/legend/data/com/raw/2022-04-13-sipm-test/run006/20220416-101134-m6-muon-amajl3-mmaj4-rtl2500.lh5\",\n",
    "\"/mnt/atlas01/projects/legend/data/com/raw/2022-04-13-sipm-test/run006/20220414-143417-m6-muon-amajl3-mmaj4-rtl2500.lh5\",  \n",
    "\"/mnt/atlas01/projects/legend/data/com/raw/2022-04-13-sipm-test/run006/20220416-111135-m6-muon-amajl3-mmaj4-rtl2500.lh5\",\n",
    "\"/mnt/atlas01/projects/legend/data/com/raw/2022-04-13-sipm-test/run006/20220414-153418-m6-muon-amajl3-mmaj4-rtl2500.lh5\",  \n",
    "\"/mnt/atlas01/projects/legend/data/com/raw/2022-04-13-sipm-test/run006/20220416-121137-m6-muon-amajl3-mmaj4-rtl2500.lh5\",\n",
    "\"/mnt/atlas01/projects/legend/data/com/raw/2022-04-13-sipm-test/run006/20220414-165749-m6-muon-amajl3-mmaj4-rtl2500.lh5\",  \n",
    "\"/mnt/atlas01/projects/legend/data/com/raw/2022-04-13-sipm-test/run006/20220416-131139-m6-muon-amajl3-mmaj4-rtl2500.lh5\",\n",
    "\"/mnt/atlas01/projects/legend/data/com/raw/2022-04-13-sipm-test/run006/20220414-175751-m6-muon-amajl3-mmaj4-rtl2500.lh5\",  \n",
    "\"/mnt/atlas01/projects/legend/data/com/raw/2022-04-13-sipm-test/run006/20220416-141141-m6-muon-amajl3-mmaj4-rtl2500.lh5\",\n",
    "\"/mnt/atlas01/projects/legend/data/com/raw/2022-04-13-sipm-test/run006/20220414-185753-m6-muon-amajl3-mmaj4-rtl2500.lh5\",  \n",
    "\"/mnt/atlas01/projects/legend/data/com/raw/2022-04-13-sipm-test/run006/20220416-151143-m6-muon-amajl3-mmaj4-rtl2500.lh5\",\n",
    "\"/mnt/atlas01/projects/legend/data/com/raw/2022-04-13-sipm-test/run006/20220414-195754-m6-muon-amajl3-mmaj4-rtl2500.lh5\",  \n",
    "\"/mnt/atlas01/projects/legend/data/com/raw/2022-04-13-sipm-test/run006/20220416-161145-m6-muon-amajl3-mmaj4-rtl2500.lh5\",\n",
    "\"/mnt/atlas01/projects/legend/data/com/raw/2022-04-13-sipm-test/run006/20220414-205757-m6-muon-amajl3-mmaj4-rtl2500.lh5\",  \n",
    "\"/mnt/atlas01/projects/legend/data/com/raw/2022-04-13-sipm-test/run006/20220416-171147-m6-muon-amajl3-mmaj4-rtl2500.lh5\",\n",
    "\"/mnt/atlas01/projects/legend/data/com/raw/2022-04-13-sipm-test/run006/20220414-215758-m6-muon-amajl3-mmaj4-rtl2500.lh5\",  \n",
    "\"/mnt/atlas01/projects/legend/data/com/raw/2022-04-13-sipm-test/run006/20220416-181149-m6-muon-amajl3-mmaj4-rtl2500.lh5\",\n",
    "\"/mnt/atlas01/projects/legend/data/com/raw/2022-04-13-sipm-test/run006/20220414-225800-m6-muon-amajl3-mmaj4-rtl2500.lh5\",  \n",
    "\"/mnt/atlas01/projects/legend/data/com/raw/2022-04-13-sipm-test/run006/20220416-191151-m6-muon-amajl3-mmaj4-rtl2500.lh5\",\n",
    "\"/mnt/atlas01/projects/legend/data/com/raw/2022-04-13-sipm-test/run006/20220414-235802-m6-muon-amajl3-mmaj4-rtl2500.lh5\",  \n",
    "\"/mnt/atlas01/projects/legend/data/com/raw/2022-04-13-sipm-test/run006/20220416-201152-m6-muon-amajl3-mmaj4-rtl2500.lh5\",\n",
    "\"/mnt/atlas01/projects/legend/data/com/raw/2022-04-13-sipm-test/run006/20220415-005804-m6-muon-amajl3-mmaj4-rtl2500.lh5\",  \n",
    "\"/mnt/atlas01/projects/legend/data/com/raw/2022-04-13-sipm-test/run006/20220416-211154-m6-muon-amajl3-mmaj4-rtl2500.lh5\",\n",
    "\"/mnt/atlas01/projects/legend/data/com/raw/2022-04-13-sipm-test/run006/20220415-015805-m6-muon-amajl3-mmaj4-rtl2500.lh5\",  \n",
    "\"/mnt/atlas01/projects/legend/data/com/raw/2022-04-13-sipm-test/run006/20220416-221157-m6-muon-amajl3-mmaj4-rtl2500.lh5\",\n",
    "\"/mnt/atlas01/projects/legend/data/com/raw/2022-04-13-sipm-test/run006/20220415-025807-m6-muon-amajl3-mmaj4-rtl2500.lh5\",  \n",
    "\"/mnt/atlas01/projects/legend/data/com/raw/2022-04-13-sipm-test/run006/20220416-231159-m6-muon-amajl3-mmaj4-rtl2500.lh5\",\n",
    "\"/mnt/atlas01/projects/legend/data/com/raw/2022-04-13-sipm-test/run006/20220415-035809-m6-muon-amajl3-mmaj4-rtl2500.lh5\",  \n",
    "\"/mnt/atlas01/projects/legend/data/com/raw/2022-04-13-sipm-test/run006/20220417-001200-m6-muon-amajl3-mmaj4-rtl2500.lh5\",\n",
    "\"/mnt/atlas01/projects/legend/data/com/raw/2022-04-13-sipm-test/run006/20220415-045811-m6-muon-amajl3-mmaj4-rtl2500.lh5\",  \n",
    "\"/mnt/atlas01/projects/legend/data/com/raw/2022-04-13-sipm-test/run006/20220417-011202-m6-muon-amajl3-mmaj4-rtl2500.lh5\",\n",
    "\"/mnt/atlas01/projects/legend/data/com/raw/2022-04-13-sipm-test/run006/20220415-055812-m6-muon-amajl3-mmaj4-rtl2500.lh5\",  \n",
    "\"/mnt/atlas01/projects/legend/data/com/raw/2022-04-13-sipm-test/run006/20220417-021204-m6-muon-amajl3-mmaj4-rtl2500.lh5\",\n",
    "\"/mnt/atlas01/projects/legend/data/com/raw/2022-04-13-sipm-test/run006/20220415-065814-m6-muon-amajl3-mmaj4-rtl2500.lh5\",  \n",
    "\"/mnt/atlas01/projects/legend/data/com/raw/2022-04-13-sipm-test/run006/20220417-031205-m6-muon-amajl3-mmaj4-rtl2500.lh5\",\n",
    "\"/mnt/atlas01/projects/legend/data/com/raw/2022-04-13-sipm-test/run006/20220415-075815-m6-muon-amajl3-mmaj4-rtl2500.lh5\",  \n",
    "\"/mnt/atlas01/projects/legend/data/com/raw/2022-04-13-sipm-test/run006/20220417-041207-m6-muon-amajl3-mmaj4-rtl2500.lh5\",\n",
    "\"/mnt/atlas01/projects/legend/data/com/raw/2022-04-13-sipm-test/run006/20220415-085817-m6-muon-amajl3-mmaj4-rtl2500.lh5\",  \n",
    "\"/mnt/atlas01/projects/legend/data/com/raw/2022-04-13-sipm-test/run006/20220417-051209-m6-muon-amajl3-mmaj4-rtl2500.lh5\",\n",
    "\"/mnt/atlas01/projects/legend/data/com/raw/2022-04-13-sipm-test/run006/20220415-095819-m6-muon-amajl3-mmaj4-rtl2500.lh5\",  \n",
    "\"/mnt/atlas01/projects/legend/data/com/raw/2022-04-13-sipm-test/run006/20220417-061211-m6-muon-amajl3-mmaj4-rtl2500.lh5\",\n",
    "\"/mnt/atlas01/projects/legend/data/com/raw/2022-04-13-sipm-test/run006/20220415-105822-m6-muon-amajl3-mmaj4-rtl2500.lh5\",  \n",
    "\"/mnt/atlas01/projects/legend/data/com/raw/2022-04-13-sipm-test/run006/20220417-071213-m6-muon-amajl3-mmaj4-rtl2500.lh5\",\n",
    "\"/mnt/atlas01/projects/legend/data/com/raw/2022-04-13-sipm-test/run006/20220415-115824-m6-muon-amajl3-mmaj4-rtl2500.lh5\",  \n",
    "\"/mnt/atlas01/projects/legend/data/com/raw/2022-04-13-sipm-test/run006/20220417-081214-m6-muon-amajl3-mmaj4-rtl2500.lh5\",\n",
    "\"/mnt/atlas01/projects/legend/data/com/raw/2022-04-13-sipm-test/run006/20220415-125826-m6-muon-amajl3-mmaj4-rtl2500.lh5\",  \n",
    "\"/mnt/atlas01/projects/legend/data/com/raw/2022-04-13-sipm-test/run006/20220417-091216-m6-muon-amajl3-mmaj4-rtl2500.lh5\",\n",
    "\"/mnt/atlas01/projects/legend/data/com/raw/2022-04-13-sipm-test/run006/20220415-135828-m6-muon-amajl3-mmaj4-rtl2500.lh5\",  \n",
    "\"/mnt/atlas01/projects/legend/data/com/raw/2022-04-13-sipm-test/run006/20220417-101218-m6-muon-amajl3-mmaj4-rtl2500.lh5\",\n",
    "\"/mnt/atlas01/projects/legend/data/com/raw/2022-04-13-sipm-test/run006/20220415-145830-m6-muon-amajl3-mmaj4-rtl2500.lh5\",  \n",
    "\"/mnt/atlas01/projects/legend/data/com/raw/2022-04-13-sipm-test/run006/20220417-111219-m6-muon-amajl3-mmaj4-rtl2500.lh5\",\n",
    "\"/mnt/atlas01/projects/legend/data/com/raw/2022-04-13-sipm-test/run006/20220415-155832-m6-muon-amajl3-mmaj4-rtl2500.lh5\",  \n",
    "\"/mnt/atlas01/projects/legend/data/com/raw/2022-04-13-sipm-test/run006/20220415-165834-m6-muon-amajl3-mmaj4-rtl2500.lh5\"]\n",
    "#show(file,\"ch000/\")\n",
    "\n"
   ]
  },
  {
   "cell_type": "code",
   "execution_count": null,
   "id": "cd04445b-fedb-4d6c-9db4-dce50cd3c205",
   "metadata": {},
   "outputs": [],
   "source": [
    "#fe.event_length(file,\"ch001/raw/waveform/values\")\n",
    "fe.print_event_data(file[0],[7530, 7531, 7532, 7533, 7534, 7535, 7536, 7537, 7538, 7539,7540,7541,7370 ])"
   ]
  },
  {
   "cell_type": "code",
   "execution_count": null,
   "id": "c92474c7-5d06-4c92-9aa0-ed868cbd7bb1",
   "metadata": {},
   "outputs": [],
   "source": [
    "results = fe.find_event(file,[fe.average],[[1,0,0,0,3000]],minfit=300000,include_channel = [\"OB-01\",\"OB-02\",\"OB-03\",\"OB-05\",\"OB-06\",\"OB-07\",\"OB-08\",\"OB-09\",\"OB-12\",\"OB-13\",\"OB-14\",\"OB-16\",\"OB-17\",\"OB-21\",\"OB-22\",\"OB-23\",\"OB-24\",\"OB-25\",\"OB-26\",\"OB-28\",\"OB-29\",\"OB-30\",\"OB-31\",\"OB-35\",\"OB-36\",\"OB-37\",\"OB-38\",\"OB-39\",\"OB-40\"], )\n",
    "#[\"OB-01\",\"OB-02\",\"OB-03\",\"OB-05\",\"OB-06\",\"OB-07\",\"OB-08\",\"OB-09\",\"OB-12\",\"OB-13\",\"OB-14\",\"OB-16\",\"OB-17\",\"OB-21\",\"OB-22\",\"OB-23\",\"OB-24\",\"OB-25\",\"OB-26\",\"OB-28\",\"OB-29\",\"OB-30\",\"OB-31\",\"OB-35\",\"OB-36\",\"OB-37\",\"OB-38\",\"OB-39\",\"OB-40\"]\n"
   ]
  },
  {
   "cell_type": "code",
   "execution_count": null,
   "id": "18260413-a3e1-4e61-9194-ca6bb475a5ec",
   "metadata": {},
   "outputs": [],
   "source": [
    "#show(\"/mnt/atlas01/projects/legend/data/com/raw/2022-04-13-sipm-test/run006/20220414-063402-m6-muon-amajl3-mmaj4-rtl2500.lh5\")\n"
   ]
  },
  {
   "cell_type": "code",
   "execution_count": null,
   "id": "29b4e60d-c2de-482f-a576-7a1da886be3a",
   "metadata": {},
   "outputs": [],
   "source": [
    "simultaneous_waveviewer.simul_viewer(lh5_file_in = file[0],data_dir = \"/raw\",entry = [5463],draw_legend=False,include_channel = [\"OB-01\",\"OB-02\",\"OB-03\",\"OB-05\",\"OB-06\",\"OB-07\",\"OB-08\",\"OB-09\",\"OB-12\",\"OB-13\",\"OB-14\",\"OB-16\",\"OB-17\",\"OB-21\",\"OB-22\",\"OB-23\",\"OB-24\",\"OB-25\",\"OB-26\",\"OB-28\",\"OB-29\",\"OB-30\",\"OB-31\",\"OB-35\",\"OB-36\",\"OB-37\",\"OB-38\",\"OB-39\",\"OB-40\"],y_lim =[9850,50000], x_lim =[0,50000],stacked_view = True)\n"
   ]
  },
  {
   "cell_type": "code",
   "execution_count": null,
   "id": "a37eee95-869b-404c-983e-b98a21d4e4b6",
   "metadata": {},
   "outputs": [],
   "source": [
    "print(results)\n"
   ]
  },
  {
   "cell_type": "code",
   "execution_count": null,
   "id": "9fa086aa-16d1-4301-b420-4769397efdbf",
   "metadata": {},
   "outputs": [],
   "source": [
    "simultaneous_waveviewer.simul_viewer(lh5_file_in = file,data_dir = \"/raw\",entry = [ 10794],include_channel = [\"OB-01\",\"OB-02\",\"OB-03\",\"OB-05\",\"OB-06\",\"OB-07\",\"OB-08\",\"OB-09\",\"OB-12\",\"OB-13\",\"OB-14\",\"OB-16\",\"OB-17\",\"OB-21\",\"OB-22\",\"OB-23\",\"OB-24\",\"OB-25\",\"OB-26\",\"OB-28\",\"OB-29\",\"OB-30\",\"OB-31\",\"OB-35\",\"OB-36\",\"OB-37\",\"OB-38\",\"OB-39\",\"OB-40\"],y_lim =[9500,50000], x_lim =[0,50000],stacked_view = True)\n"
   ]
  },
  {
   "cell_type": "code",
   "execution_count": null,
   "id": "e5f0a89e-f5b6-4d26-b74c-f7e75992e7ff",
   "metadata": {},
   "outputs": [],
   "source": []
  },
  {
   "cell_type": "code",
   "execution_count": null,
   "id": "b62631c4-478b-4a49-8e3f-56f2861983f7",
   "metadata": {},
   "outputs": [],
   "source": []
  }
 ],
 "metadata": {
  "kernelspec": {
   "display_name": "pygama",
   "language": "python",
   "name": "pygama"
  },
  "language_info": {
   "codemirror_mode": {
    "name": "ipython",
    "version": 3
   },
   "file_extension": ".py",
   "mimetype": "text/x-python",
   "name": "python",
   "nbconvert_exporter": "python",
   "pygments_lexer": "ipython3",
   "version": "3.10.0"
  },
  "vscode": {
   "interpreter": {
    "hash": "709eedb39be11f84b33db1b9cdaf95dd40ba677cc816a7f65700c52ea3d3d13b"
   }
  }
 },
 "nbformat": 4,
 "nbformat_minor": 5
}
