{
 "cells": [
  {
   "cell_type": "code",
   "execution_count": 1,
   "id": "dee31265-19f7-4971-8d67-3ccc2e915387",
   "metadata": {
    "tags": []
   },
   "outputs": [
    {
     "ename": "SyntaxError",
     "evalue": "unterminated triple-quoted string literal (detected at line 24) (1208462951.py, line 23)",
     "output_type": "error",
     "traceback": [
      "\u001b[0;36m  Input \u001b[0;32mIn [1]\u001b[0;36m\u001b[0m\n\u001b[0;31m    \"\"\"\u001b[0m\n\u001b[0m    ^\u001b[0m\n\u001b[0;31mSyntaxError\u001b[0m\u001b[0;31m:\u001b[0m unterminated triple-quoted string literal (detected at line 24)\n"
     ]
    }
   ],
   "source": [
    "import simultaneous_waveviewer\n",
    "from pygama.lgdo.lh5_store import show\n",
    "import pygama.dsp.build_dsp as build_dsp\n",
    "\"\"\"\n",
    "    build_dsp prosseses a LH5 file given via \"f_raw\" to a \"f_dsp\" output file.\n",
    "    it needs a \"dsp_config\" file which is a dictionary that discribes which and how the prossesors from /pygama/dsp/processors should be used.\n",
    "    n_max is used to limit the number of waveforms to be processed.\n",
    "    (complete list of input variables can be found in /pygama/dsp/build_dsp.py)\n",
    "\"\"\"\n",
    "#already run, commented out to save performance\n",
    "\"\"\"\n",
    "build_dsp(\n",
    "        f_raw = \"/mnt/atlas01/projects/legend/data/com/raw/2022-04-13-sipm-test/run008/20220425-175437-th228-4p7kbq-8400-athr200,12,2-es4000.lh5\",\n",
    "        f_dsp = \"/home/ge25qer/python/full.lh5\",\n",
    "        dsp_config = \"/home/ge25qer/python/sipm-dsp-config.json\",\n",
    "        n_max = 1,\n",
    "        write_mode = \"r\"\n",
    "    )\n",
    "\n",
    "\"\"\"\n",
    "#example data used as basis for the following graphs\n",
    "simultaneous_waveviewer.simul_viewer(lh5_file_in = \"/mnt/atlas01/projects/legend/data/com/raw/2022-04-13-sipm-test/run008/20220425-175437-th228-4p7kbq-8400-athr200,12,2-es4000.lh5\",data_dir = \"/raw\",include_channel = [\"OB-01\"],)\n",
    "#show(\"/home/ge25qer/python/full.lh5\")"
   ]
  },
  {
   "cell_type": "code",
   "execution_count": null,
   "id": "d349a8fd-0e53-4c35-bd64-a3c22acf9048",
   "metadata": {},
   "outputs": [],
   "source": [
    "#processors\n",
    "#gaussian_filter1d:\n",
    "simultaneous_waveviewer.simul_viewer(lh5_file_in = \"/home/ge25qer/python/full.lh5\", data_dir = \"/dsp\",lines = [\"wf_gaus\"],include_channel = [\"OB-01\"],)\n",
    "#smothes the wave\n",
    "#smothing is done via a gaus function kernal which calculates each new point based on its weighted surrounding points"
   ]
  },
  {
   "cell_type": "code",
   "execution_count": null,
   "id": "852dc335-9511-44b5-a424-0388770fc0f2",
   "metadata": {},
   "outputs": [],
   "source": [
    "#avg_current:\n",
    "simultaneous_waveviewer.simul_viewer(lh5_file_in = \"/home/ge25qer/python/full.lh5\", data_dir = \"/dsp\",lines = [\"curr\"],include_channel = [\"OB-01\"],)\n",
    "#calculates the derivative for each point based on a the change inside a moving window of defined length"
   ]
  },
  {
   "cell_type": "code",
   "execution_count": 2,
   "id": "d3b40763-80b6-4a05-9ae0-0cbf34d93e7e",
   "metadata": {},
   "outputs": [
    {
     "ename": "NameError",
     "evalue": "name 'simultaneous_waveviewer' is not defined",
     "output_type": "error",
     "traceback": [
      "\u001b[0;31m---------------------------------------------------------------------------\u001b[0m",
      "\u001b[0;31mNameError\u001b[0m                                 Traceback (most recent call last)",
      "Input \u001b[0;32mIn [2]\u001b[0m, in \u001b[0;36m<cell line: 2>\u001b[0;34m()\u001b[0m\n\u001b[1;32m      1\u001b[0m \u001b[38;5;66;03m#histogram:\u001b[39;00m\n\u001b[0;32m----> 2\u001b[0m \u001b[43msimultaneous_waveviewer\u001b[49m\u001b[38;5;241m.\u001b[39msimul_viewer(lh5_file_in \u001b[38;5;241m=\u001b[39m \u001b[38;5;124m\"\u001b[39m\u001b[38;5;124m/home/ge25qer/python/full.lh5\u001b[39m\u001b[38;5;124m\"\u001b[39m, data_dir \u001b[38;5;241m=\u001b[39m \u001b[38;5;124m\"\u001b[39m\u001b[38;5;124m/dsp\u001b[39m\u001b[38;5;124m\"\u001b[39m,lines \u001b[38;5;241m=\u001b[39m [\u001b[38;5;124m\"\u001b[39m\u001b[38;5;124mhist_weights\u001b[39m\u001b[38;5;124m\"\u001b[39m],include_channel \u001b[38;5;241m=\u001b[39m [\u001b[38;5;124m\"\u001b[39m\u001b[38;5;124mOB-01\u001b[39m\u001b[38;5;124m\"\u001b[39m],)\n\u001b[1;32m      3\u001b[0m simultaneous_waveviewer\u001b[38;5;241m.\u001b[39msimul_viewer(lh5_file_in \u001b[38;5;241m=\u001b[39m \u001b[38;5;124m\"\u001b[39m\u001b[38;5;124m/home/ge25qer/python/full.lh5\u001b[39m\u001b[38;5;124m\"\u001b[39m, data_dir \u001b[38;5;241m=\u001b[39m \u001b[38;5;124m\"\u001b[39m\u001b[38;5;124m/dsp\u001b[39m\u001b[38;5;124m\"\u001b[39m,lines \u001b[38;5;241m=\u001b[39m [\u001b[38;5;124m\"\u001b[39m\u001b[38;5;124mhist_borders\u001b[39m\u001b[38;5;124m\"\u001b[39m],include_channel \u001b[38;5;241m=\u001b[39m [\u001b[38;5;124m\"\u001b[39m\u001b[38;5;124mOB-01\u001b[39m\u001b[38;5;124m\"\u001b[39m],)\n",
      "\u001b[0;31mNameError\u001b[0m: name 'simultaneous_waveviewer' is not defined"
     ]
    }
   ],
   "source": [
    "#histogram:\n",
    "simultaneous_waveviewer.simul_viewer(lh5_file_in = \"/home/ge25qer/python/full.lh5\", data_dir = \"/dsp\",lines = [\"hist_weights\"],include_channel = [\"OB-01\"],)\n",
    "simultaneous_waveviewer.simul_viewer(lh5_file_in = \"/home/ge25qer/python/full.lh5\", data_dir = \"/dsp\",lines = [\"hist_borders\"],include_channel = [\"OB-01\"],)\n",
    "#hist_borders gives the x values for hist_weights"
   ]
  },
  {
   "cell_type": "code",
   "execution_count": null,
   "id": "e15457f2-6122-43b5-bcbf-07ee0b463fbf",
   "metadata": {},
   "outputs": [],
   "source": [
    "#histogram_stats\n",
    "simultaneous_waveviewer.simul_viewer(lh5_file_in = \"/home/ge25qer/python/full.lh5\", data_dir = \"/dsp\",lines = [\"fwhm\"],include_channel = [\"OB-01\"],x_lim=[0,200], y_lim=[0,10])\n",
    "simultaneous_waveviewer.simul_viewer(lh5_file_in = \"/home/ge25qer/python/full.lh5\", data_dir = \"/dsp\",lines = [\"max_out\"],include_channel = [\"OB-01\"],x_lim=[0,20], y_lim=[-5,5])\n",
    "#FWHM full width at half maximum "
   ]
  },
  {
   "cell_type": "code",
   "execution_count": null,
   "id": "a17d4446-fc3f-4d43-9aea-01367d642bf4",
   "metadata": {},
   "outputs": [],
   "source": [
    "#get_multi_local_extrema\n",
    "simultaneous_waveviewer.simul_viewer(lh5_file_in = \"/home/ge25qer/python/full.lh5\", data_dir = \"/dsp\",lines = [\"vt_max_candidate_out\"],include_channel = [\"OB-01\"],x_lim=[-1,15], y_lim=[0,4000])\n",
    "#candidates for maximum "
   ]
  },
  {
   "cell_type": "code",
   "execution_count": null,
   "id": "e0940a73-7d48-4a3a-98fa-87923c26aa06",
   "metadata": {},
   "outputs": [],
   "source": [
    "#peak_snr_threshold\n",
    "simultaneous_waveviewer.simul_viewer(lh5_file_in = \"/home/ge25qer/python/full.lh5\", data_dir = \"/dsp\",lines = [\"trigger_pos\"],include_channel = [\"OB-01\"],x_lim=[-1,15], y_lim=[0,4000])\n",
    "#searches for a miminum in the area arround a previus found maximum\n",
    "#removes maximum from list if no sufficiant minimum is found"
   ]
  },
  {
   "cell_type": "code",
   "execution_count": null,
   "id": "ec88c8ad-ea77-4276-8f45-454302c5dadb",
   "metadata": {},
   "outputs": [],
   "source": [
    "#multi_a_filter\n",
    "simultaneous_waveviewer.simul_viewer(lh5_file_in = \"/home/ge25qer/python/full.lh5\", data_dir = \"/dsp\",lines = [\"energies\"],include_channel = [\"OB-01\"],x_lim=[-1,15], y_lim=[0,30])\n",
    "#finds the amplitude of each previus maximum from the current graph"
   ]
  }
 ],
 "metadata": {
  "kernelspec": {
   "display_name": "pygama",
   "language": "python",
   "name": "pygama"
  },
  "language_info": {
   "codemirror_mode": {
    "name": "ipython",
    "version": 3
   },
   "file_extension": ".py",
   "mimetype": "text/x-python",
   "name": "python",
   "nbconvert_exporter": "python",
   "pygments_lexer": "ipython3",
   "version": "3.10.0"
  }
 },
 "nbformat": 4,
 "nbformat_minor": 5
}
