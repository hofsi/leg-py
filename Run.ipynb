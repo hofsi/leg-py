{
 "cells": [
  {
   "cell_type": "code",
   "execution_count": 1,
   "id": "86a372f0-0c1d-4d88-a4df-9bbb91c08cd6",
   "metadata": {},
   "outputs": [
    {
     "ename": "TypeError",
     "evalue": "simul_viewer() got an unexpected keyword argument 'lh5_file'",
     "output_type": "error",
     "traceback": [
      "\u001b[0;31m---------------------------------------------------------------------------\u001b[0m",
      "\u001b[0;31mTypeError\u001b[0m                                 Traceback (most recent call last)",
      "Input \u001b[0;32mIn [1]\u001b[0m, in \u001b[0;36m<cell line: 7>\u001b[0;34m()\u001b[0m\n\u001b[1;32m      3\u001b[0m \u001b[38;5;28;01mfrom\u001b[39;00m \u001b[38;5;21;01mpygama\u001b[39;00m\u001b[38;5;21;01m.\u001b[39;00m\u001b[38;5;21;01mlgdo\u001b[39;00m\u001b[38;5;21;01m.\u001b[39;00m\u001b[38;5;21;01mlh5_store\u001b[39;00m \u001b[38;5;28;01mimport\u001b[39;00m show\n\u001b[1;32m      5\u001b[0m \u001b[38;5;66;03m#show(\"/home/ge25qer/lh5/test.lh5\")\u001b[39;00m\n\u001b[1;32m      6\u001b[0m \u001b[38;5;66;03m#show(\"/mnt/atlas01/projects/legend/data/com/raw/2022-04-13-sipm-test/run008/20220425-175437-th228-4p7kbq-8400-athr200,12,2-es4000.lh5\")\u001b[39;00m\n\u001b[0;32m----> 7\u001b[0m \u001b[43msimultaneous_waveviewer\u001b[49m\u001b[38;5;241;43m.\u001b[39;49m\u001b[43msimul_viewer\u001b[49m\u001b[43m(\u001b[49m\u001b[43mlh5_file\u001b[49m\u001b[43m \u001b[49m\u001b[38;5;241;43m=\u001b[39;49m\u001b[43m \u001b[49m\u001b[38;5;124;43m\"\u001b[39;49m\u001b[38;5;124;43m/home/ge25qer/lh5/test.lh5\u001b[39;49m\u001b[38;5;124;43m\"\u001b[39;49m\u001b[43m,\u001b[49m\u001b[43m \u001b[49m\u001b[43mdata_dir\u001b[49m\u001b[43m \u001b[49m\u001b[38;5;241;43m=\u001b[39;49m\u001b[43m \u001b[49m\u001b[38;5;124;43m\"\u001b[39;49m\u001b[38;5;124;43m/dsp\u001b[39;49m\u001b[38;5;124;43m\"\u001b[39;49m\u001b[43m,\u001b[49m\u001b[43m \u001b[49m\u001b[43mlines\u001b[49m\u001b[43m \u001b[49m\u001b[38;5;241;43m=\u001b[39;49m\u001b[43m \u001b[49m\u001b[38;5;124;43m\"\u001b[39;49m\u001b[38;5;124;43menergies\u001b[39;49m\u001b[38;5;124;43m\"\u001b[39;49m\u001b[43m)\u001b[49m\n\u001b[1;32m      9\u001b[0m simultaneous_waveviewer\u001b[38;5;241m.\u001b[39msimul_viewer(lh5_file \u001b[38;5;241m=\u001b[39m \u001b[38;5;124m\"\u001b[39m\u001b[38;5;124m/mnt/atlas01/projects/legend/data/com/raw/2022-04-13-sipm-test/run008/20220425-175437-th228-4p7kbq-8400-athr200,12,2-es4000.lh5\u001b[39m\u001b[38;5;124m\"\u001b[39m, data_dir \u001b[38;5;241m=\u001b[39m \u001b[38;5;124m\"\u001b[39m\u001b[38;5;124m/raw/waveform\u001b[39m\u001b[38;5;124m\"\u001b[39m,lines \u001b[38;5;241m=\u001b[39m [\u001b[38;5;124m\"\u001b[39m\u001b[38;5;124mvalues\u001b[39m\u001b[38;5;124m\"\u001b[39m])\n\u001b[1;32m     11\u001b[0m simultaneous_waveviewer\u001b[38;5;241m.\u001b[39msimul_viewer(lh5_file \u001b[38;5;241m=\u001b[39m \u001b[38;5;124m\"\u001b[39m\u001b[38;5;124m/mnt/atlas01/projects/legend/data/com/raw/2022-04-13-sipm-test/run008/20220425-175437-th228-4p7kbq-8400-athr200,12,2-es4000.lh5\u001b[39m\u001b[38;5;124m\"\u001b[39m, data_dir \u001b[38;5;241m=\u001b[39m \u001b[38;5;124m\"\u001b[39m\u001b[38;5;124m/raw\u001b[39m\u001b[38;5;124m\"\u001b[39m)\n",
      "\u001b[0;31mTypeError\u001b[0m: simul_viewer() got an unexpected keyword argument 'lh5_file'"
     ]
    }
   ],
   "source": [
    "import dsp\n",
    "import simultaneous_waveviewer\n",
    "from pygama.lgdo.lh5_store import show\n",
    "\n",
    "#show(\"/home/ge25qer/lh5/test.lh5\")\n",
    "#show(\"/mnt/atlas01/projects/legend/data/com/raw/2022-04-13-sipm-test/run008/20220425-175437-th228-4p7kbq-8400-athr200,12,2-es4000.lh5\")\n",
    "simultaneous_waveviewer.simul_viewer(lh5_file_in = \"/home/ge25qer/lh5/test.lh5\", data_dir = \"/dsp\", lines = \"energies\")\n",
    "\n",
    "simultaneous_waveviewer.simul_viewer(lh5_file_in = \"/mnt/atlas01/projects/legend/data/com/raw/2022-04-13-sipm-test/run008/20220425-175437-th228-4p7kbq-8400-athr200,12,2-es4000.lh5\", data_dir = \"/raw/waveform\",lines = [\"values\"])\n",
    "\n",
    "simultaneous_waveviewer.simul_viewer(lh5_file = \"/mnt/atlas01/projects/legend/data/com/raw/2022-04-13-sipm-test/run008/20220425-175437-th228-4p7kbq-8400-athr200,12,2-es4000.lh5\", data_dir = \"/raw\")\n",
    "\n",
    "#dsp.dsp()"
   ]
  },
  {
   "cell_type": "code",
   "execution_count": null,
   "id": "26c0bb5b-3b28-4ef4-99cd-ddc74c2a5b59",
   "metadata": {},
   "outputs": [],
   "source": []
  }
 ],
 "metadata": {
  "kernelspec": {
   "display_name": "pygama",
   "language": "python",
   "name": "pygama"
  },
  "language_info": {
   "codemirror_mode": {
    "name": "ipython",
    "version": 3
   },
   "file_extension": ".py",
   "mimetype": "text/x-python",
   "name": "python",
   "nbconvert_exporter": "python",
   "pygments_lexer": "ipython3",
   "version": "3.10.0"
  }
 },
 "nbformat": 4,
 "nbformat_minor": 5
}
