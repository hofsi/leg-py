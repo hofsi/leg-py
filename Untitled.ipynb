{
 "cells": [
  {
   "cell_type": "code",
   "execution_count": 3,
   "id": "536a92c7-45ff-46e8-959f-f936a02eb32a",
   "metadata": {},
   "outputs": [
    {
     "ename": "ModuleNotFoundError",
     "evalue": "No module named 'testiterator.py'; 'testiterator' is not a package",
     "output_type": "error",
     "traceback": [
      "\u001b[0;31m---------------------------------------------------------------------------\u001b[0m",
      "\u001b[0;31mModuleNotFoundError\u001b[0m                       Traceback (most recent call last)",
      "Cell \u001b[0;32mIn [3], line 1\u001b[0m\n\u001b[0;32m----> 1\u001b[0m \u001b[39mimport\u001b[39;00m \u001b[39mtestiterator\u001b[39;00m\u001b[39m.\u001b[39;00m\u001b[39mpy\u001b[39;00m\n\u001b[1;32m      3\u001b[0m testiterator\u001b[39m.\u001b[39mTimefile()\n",
      "\u001b[0;31mModuleNotFoundError\u001b[0m: No module named 'testiterator.py'; 'testiterator' is not a package"
     ]
    }
   ],
   "source": [
    "import testiterator\n",
    "\n",
    "testiterator.Timefile()"
   ]
  },
  {
   "cell_type": "code",
   "execution_count": null,
   "id": "d1565d64-bfdd-4590-b845-7c34c2d96415",
   "metadata": {},
   "outputs": [],
   "source": []
  }
 ],
 "metadata": {
  "kernelspec": {
   "display_name": "pygama",
   "language": "python",
   "name": "pygama"
  },
  "language_info": {
   "codemirror_mode": {
    "name": "ipython",
    "version": 3
   },
   "file_extension": ".py",
   "mimetype": "text/x-python",
   "name": "python",
   "nbconvert_exporter": "python",
   "pygments_lexer": "ipython3",
   "version": "3.10.0"
  }
 },
 "nbformat": 4,
 "nbformat_minor": 5
}
