{
 "cells": [
  {
   "cell_type": "code",
   "execution_count": 1,
   "id": "86a372f0-0c1d-4d88-a4df-9bbb91c08cd6",
   "metadata": {},
   "outputs": [],
   "source": [
    "import simultaneous_waveviewer\n",
    "\n",
    "simultaneous_waveviewer.simul_viewer()"
   ]
  },
  {
   "cell_type": "code",
   "execution_count": null,
   "id": "0514eba5-ed06-46d2-a247-6bf2e0ff6719",
   "metadata": {},
   "outputs": [],
   "source": []
  },
  {
   "cell_type": "code",
   "execution_count": null,
   "id": "ad42bfbc-178c-446b-a4e3-6eca57d80005",
   "metadata": {},
   "outputs": [],
   "source": []
  },
  {
   "cell_type": "code",
   "execution_count": null,
   "id": "498cbd84-28d0-4128-848e-73531e5f9adc",
   "metadata": {},
   "outputs": [],
   "source": []
  },
  {
   "cell_type": "code",
   "execution_count": null,
   "id": "a59015e5-29c2-400a-83dc-b6da499b9449",
   "metadata": {},
   "outputs": [],
   "source": []
  }
 ],
 "metadata": {
  "kernelspec": {
   "display_name": "pygama",
   "language": "python",
   "name": "pygama"
  },
  "language_info": {
   "codemirror_mode": {
    "name": "ipython",
    "version": 3
   },
   "file_extension": ".py",
   "mimetype": "text/x-python",
   "name": "python",
   "nbconvert_exporter": "python",
   "pygments_lexer": "ipython3",
   "version": "3.10.0"
  }
 },
 "nbformat": 4,
 "nbformat_minor": 5
}
